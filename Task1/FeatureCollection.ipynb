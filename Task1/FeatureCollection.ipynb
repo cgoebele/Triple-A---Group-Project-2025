{
 "cells": [
  {
   "cell_type": "markdown",
   "id": "cbe6ff9b",
   "metadata": {},
   "source": [
    "# Chicago Weather API"
   ]
  },
  {
   "cell_type": "code",
   "execution_count": 35,
   "id": "d395788a",
   "metadata": {},
   "outputs": [
    {
     "name": "stdout",
     "output_type": "stream",
     "text": [
      "Fetching data for: 2024-01-01 to 2024-02-01\n",
      "Fetching data for: 2024-02-01 to 2024-03-01\n",
      "Fetching data for: 2024-03-01 to 2024-04-01\n",
      "Fetching data for: 2024-04-01 to 2024-05-01\n",
      "Fetching data for: 2024-05-01 to 2024-06-01\n",
      "Fetching data for: 2024-06-01 to 2024-07-01\n",
      "Fetching data for: 2024-07-01 to 2024-08-01\n",
      "Fetching data for: 2024-08-01 to 2024-09-01\n",
      "Fetching data for: 2024-09-01 to 2024-10-01\n",
      "Fetching data for: 2024-10-01 to 2024-11-01\n",
      "Fetching data for: 2024-11-01 to 2024-12-01\n",
      "Fetching data for: 2024-12-01 to 2025-01-01\n",
      "Fetching data for: 2025-01-01 to 2025-02-01\n",
      "Fetching data for: 2025-02-01 to 2025-03-01\n",
      "Fetching data for: 2025-03-01 to 2025-04-01\n",
      "Fetching data for: 2025-04-01 to 2025-05-01\n",
      "Fetching data for: 2025-05-01 to 2025-06-01\n",
      "Fetching data for: 2025-06-01 to 2025-07-01\n",
      "   app_temp  azimuth  clouds       datetime  dewpt  dhi  dni  elev_angle  ghi  \\\n",
      "0      -5.7      4.5      87  2024-01-01:06   -1.5    0    0       -71.1    0   \n",
      "1      -4.9     41.5     100  2024-01-01:07   -1.1    0    0       -66.6    0   \n",
      "2      -4.3     64.3      87  2024-01-01:08   -0.3    0    0       -57.7    0   \n",
      "3      -5.2     78.9     100  2024-01-01:09   -0.5    0    0       -47.1    0   \n",
      "4      -4.8     89.9      87  2024-01-01:10   -0.7    0    0       -36.0    0   \n",
      "\n",
      "  h_angle  ... temp      timestamp_local        timestamp_utc          ts  \\\n",
      "0    None  ...  0.7  2024-01-01T00:00:00  2024-01-01T06:00:00  1704088800   \n",
      "1    None  ...  0.7  2024-01-01T01:00:00  2024-01-01T07:00:00  1704092400   \n",
      "2    None  ...  1.5  2024-01-01T02:00:00  2024-01-01T08:00:00  1704096000   \n",
      "3    None  ...  1.1  2024-01-01T03:00:00  2024-01-01T09:00:00  1704099600   \n",
      "4    None  ...  0.9  2024-01-01T04:00:00  2024-01-01T10:00:00  1704103200   \n",
      "\n",
      "    uv  vis                                            weather  wind_dir  \\\n",
      "0  0.0   16  {'icon': 'c04n', 'description': 'Overcast clou...       320   \n",
      "1  0.0   16  {'icon': 'c04n', 'description': 'Overcast clou...       330   \n",
      "2  0.0   10  {'icon': 'c04n', 'description': 'Overcast clou...       340   \n",
      "3  0.0   10  {'icon': 'c04n', 'description': 'Overcast clou...       330   \n",
      "4  0.0   10  {'icon': 'c04n', 'description': 'Overcast clou...       330   \n",
      "\n",
      "   wind_gust_spd wind_spd  \n",
      "0           12.4      8.8  \n",
      "1           10.5      6.7  \n",
      "2           10.8      7.7  \n",
      "3           10.6      8.8  \n",
      "4            9.6      7.2  \n",
      "\n",
      "[5 rows x 28 columns]\n"
     ]
    }
   ],
   "source": [
    "import requests\n",
    "import pandas as pd\n",
    "\n",
    "API_KEY = '9aac682673744387b2d27509371709d1'\n",
    "\n",
    "# chicago coordinates\n",
    "LAT = 41.8781\n",
    "LON = -87.6298\n",
    "\n",
    "# full 2024 months range\n",
    "months = [\n",
    "    ('2024-01-01', '2024-02-01'),\n",
    "    ('2024-02-01', '2024-03-01'),\n",
    "    ('2024-03-01', '2024-04-01'),\n",
    "    ('2024-04-01', '2024-05-01'),\n",
    "    ('2024-05-01', '2024-06-01'),\n",
    "    ('2024-06-01', '2024-07-01'),\n",
    "    ('2024-07-01', '2024-08-01'),\n",
    "    ('2024-08-01', '2024-09-01'),\n",
    "    ('2024-09-01', '2024-10-01'),\n",
    "    ('2024-10-01', '2024-11-01'),\n",
    "    ('2024-11-01', '2024-12-01'),\n",
    "    ('2024-12-01', '2025-01-01'),\n",
    "    ('2025-01-01', '2025-02-01'),\n",
    "    ('2025-02-01', '2025-03-01'),\n",
    "    ('2025-03-01', '2025-04-01'),\n",
    "    ('2025-04-01', '2025-05-01'),\n",
    "    ('2025-05-01', '2025-06-01'),\n",
    "    ('2025-06-01', '2025-07-01')\n",
    "]\n",
    "\n",
    "BASE_URL = 'https://api.weatherbit.io/v2.0/history/hourly'\n",
    "\n",
    "all_data = []\n",
    "# fetching data for each month\n",
    "for start_date, end_date in months:\n",
    "    print(f\"Fetching data for: {start_date} to {end_date}\")\n",
    "    params = {\n",
    "        'lat': LAT,\n",
    "        'lon': LON,\n",
    "        'start_date': start_date,\n",
    "        'end_date': end_date,\n",
    "        'key': API_KEY,\n",
    "        'tz': 'local'\n",
    "    }\n",
    "\n",
    "    response = requests.get(BASE_URL, params=params)\n",
    "\n",
    "    if response.status_code == 200:\n",
    "        json_data = response.json()\n",
    "        all_data.extend(json_data['data'])\n",
    "    else:\n",
    "        print(f\"Error fetching {start_date}: {response.status_code} - {response.text}\")\n",
    "\n",
    "\n",
    "chicago_weather = pd.DataFrame(all_data)\n",
    "print(chicago_weather.head())\n"
   ]
  },
  {
   "cell_type": "code",
   "execution_count": 36,
   "id": "b59fc763",
   "metadata": {},
   "outputs": [
    {
     "name": "stdout",
     "output_type": "stream",
     "text": [
      "Unique dates in the dataset: 547\n"
     ]
    }
   ],
   "source": [
    "chicago_weather['timestamp_local'] = pd.to_datetime(chicago_weather['timestamp_local'])\n",
    "chicago_weather['date'] = chicago_weather['timestamp_local'].dt.date\n",
    "\n",
    "# drop dups from overlapping timeframes\n",
    "chicago_weather = chicago_weather.drop_duplicates(subset='timestamp_local')\n",
    "\n",
    "\n",
    "unique_dates = chicago_weather['date'].unique()\n",
    "print(f\"Unique dates in the dataset: {len(unique_dates)}\")\n"
   ]
  },
  {
   "cell_type": "code",
   "execution_count": 40,
   "id": "e314e78f",
   "metadata": {},
   "outputs": [],
   "source": [
    "# save df to csv \n",
    "chicago_weather.to_csv('chicago_weather.csv', index=False)"
   ]
  },
  {
   "cell_type": "markdown",
   "id": "f7abc41c",
   "metadata": {},
   "source": [
    "# Holiday Data from Python package"
   ]
  },
  {
   "cell_type": "code",
   "execution_count": 38,
   "id": "0d4cbac8",
   "metadata": {},
   "outputs": [],
   "source": [
    "import holidays\n",
    "\n",
    "chi_holidays = pd.DataFrame(chicago_weather['timestamp_local'].dt.date.unique(), columns=['date'])\n",
    "\n",
    "us_holidays = holidays.US(state='IL', years=[2024, 2025])\n",
    "\n",
    "chi_holidays['is_holiday'] = chi_holidays['date'].apply(lambda x: x in us_holidays)\n",
    "chi_holidays['holiday_name'] = chi_holidays['date'].apply(lambda x: us_holidays.get(x) if x in us_holidays else None)"
   ]
  },
  {
   "cell_type": "code",
   "execution_count": 39,
   "id": "4661827c",
   "metadata": {},
   "outputs": [],
   "source": [
    "chi_holidays.to_csv('chicago_holidays.csv', index=False)"
   ]
  },
  {
   "cell_type": "markdown",
   "id": "0183fba6",
   "metadata": {},
   "source": [
    "# Chicago POI Data "
   ]
  },
  {
   "cell_type": "code",
   "execution_count": null,
   "id": "db3bd37c",
   "metadata": {},
   "outputs": [],
   "source": [
    "import osmnx as ox\n",
    "import geopandas as gpd\n",
    "\n",
    "place_name = \"Chicago, Illinois, USA\"\n",
    "tags = {\n",
    "    'amenity':   ['restaurant','bar','cafe'],\n",
    "    'tourism':   ['museum'],\n",
    "    'leisure':   ['park']\n",
    "}\n",
    "\n",
    "pois = ox.features_from_place(place_name, tags) \n",
    "pois = pois[pois.geometry.type == 'Point']\n",
    "\n",
    "pois = pois [['geometry', 'amenity']]\n",
    "\n",
    "pois.to_csv('CHI_POI.csv', index=False)"
   ]
  }
 ],
 "metadata": {
  "kernelspec": {
   "display_name": "Python 3",
   "language": "python",
   "name": "python3"
  },
  "language_info": {
   "codemirror_mode": {
    "name": "ipython",
    "version": 3
   },
   "file_extension": ".py",
   "mimetype": "text/x-python",
   "name": "python",
   "nbconvert_exporter": "python",
   "pygments_lexer": "ipython3",
   "version": "3.12.1"
  }
 },
 "nbformat": 4,
 "nbformat_minor": 5
}
