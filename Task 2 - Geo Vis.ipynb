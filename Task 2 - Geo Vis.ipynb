{
 "cells": [
  {
   "cell_type": "code",
   "execution_count": 19,
   "metadata": {},
   "outputs": [],
   "source": [
    "import folium\n",
    "import requests\n",
    "import h3\n",
    "import pandas as pd\n",
    "import geopandas as gpd\n",
    "from shapely import wkt\n",
    "from shapely.geometry import Polygon"
   ]
  },
  {
   "cell_type": "markdown",
   "metadata": {},
   "source": [
    "# Community Areas"
   ]
  },
  {
   "cell_type": "code",
   "execution_count": null,
   "metadata": {},
   "outputs": [],
   "source": [
    "geojson_url = \"https://data.cityofchicago.org/resource/igwz-8jzy.geojson\"\n",
    "geojson_data = requests.get(geojson_url).json()\n",
    "\n",
    "m = folium.Map(location=[41.8781, -87.6298], zoom_start=10)\n",
    "\n",
    "folium.GeoJson(\n",
    "    geojson_data,\n",
    "    name=\"Chicago Community Areas\",\n",
    "    tooltip=folium.GeoJsonTooltip(fields=['community'], aliases=['Community Area:'])\n",
    ").add_to(m)\n",
    "\n",
    "folium.LayerControl().add_to(m)\n",
    "\n",
    "#m.save(\"chicago_community_areas.html\")\n",
    "m"
   ]
  },
  {
   "cell_type": "markdown",
   "metadata": {},
   "source": [
    "# Census Tracts"
   ]
  },
  {
   "cell_type": "code",
   "execution_count": null,
   "metadata": {},
   "outputs": [],
   "source": [
    "ca_to_ct = pd.read_csv(\"data/CensusTractsTIGER2010_20250711.csv\", encoding='latin-1')\n",
    "ca_to_ct = ca_to_ct.rename(columns={'GEOID10': 'Tract', 'COMMAREA':'CommunityAreaNumber'})\n",
    "\n",
    "ca_to_ct[\"geometry\"] = ca_to_ct[\"the_geom\"].apply(wkt.loads)\n",
    "ca_to_ct = gpd.GeoDataFrame(ca_to_ct, geometry=\"geometry\", crs=\"EPSG:4326\")\n",
    "\n",
    "m = folium.Map(location=[41.8781, -87.6298], zoom_start=11, tiles=\"CartoDB positron\")\n",
    "\n",
    "folium.GeoJson(\n",
    "    ca_to_ct,\n",
    "    name=\"Chicago Census Tracts\",\n",
    "    tooltip=folium.GeoJsonTooltip(fields=[\"Tract\", \"CommunityAreaNumber\"], aliases=[\"Tract GEOID:\", \"Community Area:\"])\n",
    ").add_to(m)\n",
    "\n",
    "folium.LayerControl().add_to(m)\n",
    "#m.save(\"chicago_tracts.html\")\n",
    "m\n"
   ]
  }
 ],
 "metadata": {
  "kernelspec": {
   "display_name": "Python 3",
   "language": "python",
   "name": "python3"
  },
  "language_info": {
   "codemirror_mode": {
    "name": "ipython",
    "version": 3
   },
   "file_extension": ".py",
   "mimetype": "text/x-python",
   "name": "python",
   "nbconvert_exporter": "python",
   "pygments_lexer": "ipython3",
   "version": "3.12.0"
  }
 },
 "nbformat": 4,
 "nbformat_minor": 2
}
